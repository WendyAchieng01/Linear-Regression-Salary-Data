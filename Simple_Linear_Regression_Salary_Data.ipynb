{
 "cells": [
  {
   "cell_type": "markdown",
   "metadata": {
    "id": "TLVNqHkUmt-E"
   },
   "source": [
    "\n",
    "WENDY ACHIENG MUDENYO\n"
   ]
  },
  {
   "cell_type": "markdown",
   "metadata": {
    "id": "_ofDpw0ZnzKH"
   },
   "source": [
    "**Introduction**\n",
    "\n",
    "For this project , i will use the \"Salary_Data.CSV\" to perform Simple Linear Regression. "
   ]
  },
  {
   "cell_type": "markdown",
   "metadata": {
    "id": "97v4Hqe27tpg"
   },
   "source": [
    "Uploading the data to be used."
   ]
  },
  {
   "cell_type": "code",
   "execution_count": 1,
   "metadata": {
    "id": "mfHGU4PpWOmb"
   },
   "outputs": [],
   "source": [
    "import pandas as pd\n",
    "import numpy as np"
   ]
  },
  {
   "cell_type": "code",
   "execution_count": 2,
   "metadata": {
    "id": "pIz8SG_o3LUe"
   },
   "outputs": [],
   "source": [
    "Salary_Data = pd.read_csv('Salary_Data.csv')"
   ]
  },
  {
   "cell_type": "code",
   "execution_count": 3,
   "metadata": {
    "colab": {
     "base_uri": "https://localhost:8080/",
     "height": 111
    },
    "id": "tELCpVWp3cpy",
    "outputId": "9cb95db9-cc48-4997-d728-ec35cb5fb136"
   },
   "outputs": [
    {
     "data": {
      "text/html": [
       "<div>\n",
       "<style scoped>\n",
       "    .dataframe tbody tr th:only-of-type {\n",
       "        vertical-align: middle;\n",
       "    }\n",
       "\n",
       "    .dataframe tbody tr th {\n",
       "        vertical-align: top;\n",
       "    }\n",
       "\n",
       "    .dataframe thead th {\n",
       "        text-align: right;\n",
       "    }\n",
       "</style>\n",
       "<table border=\"1\" class=\"dataframe\">\n",
       "  <thead>\n",
       "    <tr style=\"text-align: right;\">\n",
       "      <th></th>\n",
       "      <th>0</th>\n",
       "      <th>1</th>\n",
       "      <th>2</th>\n",
       "      <th>3</th>\n",
       "      <th>4</th>\n",
       "      <th>5</th>\n",
       "      <th>6</th>\n",
       "      <th>7</th>\n",
       "      <th>8</th>\n",
       "      <th>9</th>\n",
       "    </tr>\n",
       "  </thead>\n",
       "  <tbody>\n",
       "    <tr>\n",
       "      <th>YearsExperience</th>\n",
       "      <td>1.1</td>\n",
       "      <td>1.3</td>\n",
       "      <td>1.5</td>\n",
       "      <td>2.0</td>\n",
       "      <td>2.2</td>\n",
       "      <td>2.9</td>\n",
       "      <td>3.0</td>\n",
       "      <td>3.2</td>\n",
       "      <td>3.2</td>\n",
       "      <td>3.7</td>\n",
       "    </tr>\n",
       "    <tr>\n",
       "      <th>Salary</th>\n",
       "      <td>39343.0</td>\n",
       "      <td>46205.0</td>\n",
       "      <td>37731.0</td>\n",
       "      <td>43525.0</td>\n",
       "      <td>39891.0</td>\n",
       "      <td>56642.0</td>\n",
       "      <td>60150.0</td>\n",
       "      <td>54445.0</td>\n",
       "      <td>64445.0</td>\n",
       "      <td>57189.0</td>\n",
       "    </tr>\n",
       "  </tbody>\n",
       "</table>\n",
       "</div>"
      ],
      "text/plain": [
       "                       0        1        2        3        4        5  \\\n",
       "YearsExperience      1.1      1.3      1.5      2.0      2.2      2.9   \n",
       "Salary           39343.0  46205.0  37731.0  43525.0  39891.0  56642.0   \n",
       "\n",
       "                       6        7        8        9  \n",
       "YearsExperience      3.0      3.2      3.2      3.7  \n",
       "Salary           60150.0  54445.0  64445.0  57189.0  "
      ]
     },
     "execution_count": 3,
     "metadata": {},
     "output_type": "execute_result"
    }
   ],
   "source": [
    "Salary_Data.head(10).T"
   ]
  },
  {
   "cell_type": "markdown",
   "metadata": {
    "id": "ASo6595_mSeX"
   },
   "source": [
    "**Here i Checked if our Salary_Data has Null Values which is part of Data Cleaning**"
   ]
  },
  {
   "cell_type": "code",
   "execution_count": 4,
   "metadata": {
    "colab": {
     "base_uri": "https://localhost:8080/",
     "height": 131
    },
    "id": "D282ebx93yWR",
    "outputId": "07353678-325a-47bc-e9ad-f1aafc2e0cae"
   },
   "outputs": [
    {
     "data": {
      "text/html": [
       "<div>\n",
       "<style scoped>\n",
       "    .dataframe tbody tr th:only-of-type {\n",
       "        vertical-align: middle;\n",
       "    }\n",
       "\n",
       "    .dataframe tbody tr th {\n",
       "        vertical-align: top;\n",
       "    }\n",
       "\n",
       "    .dataframe thead th {\n",
       "        text-align: right;\n",
       "    }\n",
       "</style>\n",
       "<table border=\"1\" class=\"dataframe\">\n",
       "  <thead>\n",
       "    <tr style=\"text-align: right;\">\n",
       "      <th></th>\n",
       "      <th>0</th>\n",
       "      <th>1</th>\n",
       "      <th>2</th>\n",
       "      <th>3</th>\n",
       "      <th>4</th>\n",
       "      <th>5</th>\n",
       "      <th>6</th>\n",
       "      <th>7</th>\n",
       "      <th>8</th>\n",
       "      <th>9</th>\n",
       "      <th>...</th>\n",
       "      <th>20</th>\n",
       "      <th>21</th>\n",
       "      <th>22</th>\n",
       "      <th>23</th>\n",
       "      <th>24</th>\n",
       "      <th>25</th>\n",
       "      <th>26</th>\n",
       "      <th>27</th>\n",
       "      <th>28</th>\n",
       "      <th>29</th>\n",
       "    </tr>\n",
       "  </thead>\n",
       "  <tbody>\n",
       "    <tr>\n",
       "      <th>YearsExperience</th>\n",
       "      <td>False</td>\n",
       "      <td>False</td>\n",
       "      <td>False</td>\n",
       "      <td>False</td>\n",
       "      <td>False</td>\n",
       "      <td>False</td>\n",
       "      <td>False</td>\n",
       "      <td>False</td>\n",
       "      <td>False</td>\n",
       "      <td>False</td>\n",
       "      <td>...</td>\n",
       "      <td>False</td>\n",
       "      <td>False</td>\n",
       "      <td>False</td>\n",
       "      <td>False</td>\n",
       "      <td>False</td>\n",
       "      <td>False</td>\n",
       "      <td>False</td>\n",
       "      <td>False</td>\n",
       "      <td>False</td>\n",
       "      <td>False</td>\n",
       "    </tr>\n",
       "    <tr>\n",
       "      <th>Salary</th>\n",
       "      <td>False</td>\n",
       "      <td>False</td>\n",
       "      <td>False</td>\n",
       "      <td>False</td>\n",
       "      <td>False</td>\n",
       "      <td>False</td>\n",
       "      <td>False</td>\n",
       "      <td>False</td>\n",
       "      <td>False</td>\n",
       "      <td>False</td>\n",
       "      <td>...</td>\n",
       "      <td>False</td>\n",
       "      <td>False</td>\n",
       "      <td>False</td>\n",
       "      <td>False</td>\n",
       "      <td>False</td>\n",
       "      <td>False</td>\n",
       "      <td>False</td>\n",
       "      <td>False</td>\n",
       "      <td>False</td>\n",
       "      <td>False</td>\n",
       "    </tr>\n",
       "  </tbody>\n",
       "</table>\n",
       "<p>2 rows × 30 columns</p>\n",
       "</div>"
      ],
      "text/plain": [
       "                    0      1      2      3      4      5      6      7   \\\n",
       "YearsExperience  False  False  False  False  False  False  False  False   \n",
       "Salary           False  False  False  False  False  False  False  False   \n",
       "\n",
       "                    8      9   ...     20     21     22     23     24     25  \\\n",
       "YearsExperience  False  False  ...  False  False  False  False  False  False   \n",
       "Salary           False  False  ...  False  False  False  False  False  False   \n",
       "\n",
       "                    26     27     28     29  \n",
       "YearsExperience  False  False  False  False  \n",
       "Salary           False  False  False  False  \n",
       "\n",
       "[2 rows x 30 columns]"
      ]
     },
     "execution_count": 4,
     "metadata": {},
     "output_type": "execute_result"
    }
   ],
   "source": [
    "Salary_Data.isna().T"
   ]
  },
  {
   "cell_type": "code",
   "execution_count": 5,
   "metadata": {
    "colab": {
     "base_uri": "https://localhost:8080/"
    },
    "id": "83XoYjWP4Ccq",
    "outputId": "2364eaac-290d-49bb-f740-792ef6216e67"
   },
   "outputs": [
    {
     "name": "stdout",
     "output_type": "stream",
     "text": [
      "<class 'pandas.core.frame.DataFrame'>\n",
      "RangeIndex: 30 entries, 0 to 29\n",
      "Data columns (total 2 columns):\n",
      " #   Column           Non-Null Count  Dtype  \n",
      "---  ------           --------------  -----  \n",
      " 0   YearsExperience  30 non-null     float64\n",
      " 1   Salary           30 non-null     float64\n",
      "dtypes: float64(2)\n",
      "memory usage: 608.0 bytes\n"
     ]
    }
   ],
   "source": [
    "Salary_Data.info()"
   ]
  },
  {
   "cell_type": "markdown",
   "metadata": {
    "id": "smnpWm-a7HQb"
   },
   "source": [
    "**Here i categorize our data into dependent(y) and independent variables(X)**\n",
    "\n",
    "---\n",
    "\n"
   ]
  },
  {
   "cell_type": "code",
   "execution_count": 6,
   "metadata": {
    "id": "uNGfMI557hpr"
   },
   "outputs": [],
   "source": [
    "X = Salary_Data.iloc[:,:-1].values\n",
    "y = Salary_Data.iloc[:, 1].values"
   ]
  },
  {
   "cell_type": "code",
   "execution_count": 7,
   "metadata": {
    "colab": {
     "base_uri": "https://localhost:8080/",
     "height": 111
    },
    "id": "FDFxHAMs7pDL",
    "outputId": "5508b8ce-efa1-445c-8eab-b5fcdb2adb42"
   },
   "outputs": [
    {
     "data": {
      "text/html": [
       "<div>\n",
       "<style scoped>\n",
       "    .dataframe tbody tr th:only-of-type {\n",
       "        vertical-align: middle;\n",
       "    }\n",
       "\n",
       "    .dataframe tbody tr th {\n",
       "        vertical-align: top;\n",
       "    }\n",
       "\n",
       "    .dataframe thead th {\n",
       "        text-align: right;\n",
       "    }\n",
       "</style>\n",
       "<table border=\"1\" class=\"dataframe\">\n",
       "  <thead>\n",
       "    <tr style=\"text-align: right;\">\n",
       "      <th></th>\n",
       "      <th>15</th>\n",
       "      <th>28</th>\n",
       "      <th>3</th>\n",
       "      <th>13</th>\n",
       "      <th>12</th>\n",
       "      <th>16</th>\n",
       "      <th>19</th>\n",
       "      <th>17</th>\n",
       "      <th>29</th>\n",
       "      <th>2</th>\n",
       "    </tr>\n",
       "  </thead>\n",
       "  <tbody>\n",
       "    <tr>\n",
       "      <th>YearsExperience</th>\n",
       "      <td>4.9</td>\n",
       "      <td>10.3</td>\n",
       "      <td>2.0</td>\n",
       "      <td>4.1</td>\n",
       "      <td>4.0</td>\n",
       "      <td>5.1</td>\n",
       "      <td>6.0</td>\n",
       "      <td>5.3</td>\n",
       "      <td>10.5</td>\n",
       "      <td>1.5</td>\n",
       "    </tr>\n",
       "    <tr>\n",
       "      <th>Salary</th>\n",
       "      <td>67938.0</td>\n",
       "      <td>122391.0</td>\n",
       "      <td>43525.0</td>\n",
       "      <td>57081.0</td>\n",
       "      <td>56957.0</td>\n",
       "      <td>66029.0</td>\n",
       "      <td>93940.0</td>\n",
       "      <td>83088.0</td>\n",
       "      <td>121872.0</td>\n",
       "      <td>37731.0</td>\n",
       "    </tr>\n",
       "  </tbody>\n",
       "</table>\n",
       "</div>"
      ],
      "text/plain": [
       "                      15        28       3        13       12       16  \\\n",
       "YearsExperience      4.9      10.3      2.0      4.1      4.0      5.1   \n",
       "Salary           67938.0  122391.0  43525.0  57081.0  56957.0  66029.0   \n",
       "\n",
       "                      19       17        29       2   \n",
       "YearsExperience      6.0      5.3      10.5      1.5  \n",
       "Salary           93940.0  83088.0  121872.0  37731.0  "
      ]
     },
     "execution_count": 7,
     "metadata": {},
     "output_type": "execute_result"
    }
   ],
   "source": [
    "Salary_Data.sample(10).T"
   ]
  },
  {
   "cell_type": "markdown",
   "metadata": {
    "id": "s3kLsm3uFTaV"
   },
   "source": [
    "**SALARY DATA OBSERVATION**"
   ]
  },
  {
   "cell_type": "markdown",
   "metadata": {
    "id": "hybTJeWWFfRG"
   },
   "source": [
    "***FINDING INSIGHTS FROM OUR DATA***"
   ]
  },
  {
   "cell_type": "code",
   "execution_count": 8,
   "metadata": {
    "colab": {
     "base_uri": "https://localhost:8080/",
     "height": 297
    },
    "id": "xzX5TCbNFwXn",
    "outputId": "02ecf28c-5444-42e1-955f-60f2ee47c975"
   },
   "outputs": [
    {
     "data": {
      "text/html": [
       "<div>\n",
       "<style scoped>\n",
       "    .dataframe tbody tr th:only-of-type {\n",
       "        vertical-align: middle;\n",
       "    }\n",
       "\n",
       "    .dataframe tbody tr th {\n",
       "        vertical-align: top;\n",
       "    }\n",
       "\n",
       "    .dataframe thead th {\n",
       "        text-align: right;\n",
       "    }\n",
       "</style>\n",
       "<table border=\"1\" class=\"dataframe\">\n",
       "  <thead>\n",
       "    <tr style=\"text-align: right;\">\n",
       "      <th></th>\n",
       "      <th>YearsExperience</th>\n",
       "      <th>Salary</th>\n",
       "    </tr>\n",
       "  </thead>\n",
       "  <tbody>\n",
       "    <tr>\n",
       "      <th>count</th>\n",
       "      <td>30.000000</td>\n",
       "      <td>30.000000</td>\n",
       "    </tr>\n",
       "    <tr>\n",
       "      <th>mean</th>\n",
       "      <td>5.313333</td>\n",
       "      <td>76003.000000</td>\n",
       "    </tr>\n",
       "    <tr>\n",
       "      <th>std</th>\n",
       "      <td>2.837888</td>\n",
       "      <td>27414.429785</td>\n",
       "    </tr>\n",
       "    <tr>\n",
       "      <th>min</th>\n",
       "      <td>1.100000</td>\n",
       "      <td>37731.000000</td>\n",
       "    </tr>\n",
       "    <tr>\n",
       "      <th>25%</th>\n",
       "      <td>3.200000</td>\n",
       "      <td>56720.750000</td>\n",
       "    </tr>\n",
       "    <tr>\n",
       "      <th>50%</th>\n",
       "      <td>4.700000</td>\n",
       "      <td>65237.000000</td>\n",
       "    </tr>\n",
       "    <tr>\n",
       "      <th>75%</th>\n",
       "      <td>7.700000</td>\n",
       "      <td>100544.750000</td>\n",
       "    </tr>\n",
       "    <tr>\n",
       "      <th>max</th>\n",
       "      <td>10.500000</td>\n",
       "      <td>122391.000000</td>\n",
       "    </tr>\n",
       "  </tbody>\n",
       "</table>\n",
       "</div>"
      ],
      "text/plain": [
       "       YearsExperience         Salary\n",
       "count        30.000000      30.000000\n",
       "mean          5.313333   76003.000000\n",
       "std           2.837888   27414.429785\n",
       "min           1.100000   37731.000000\n",
       "25%           3.200000   56720.750000\n",
       "50%           4.700000   65237.000000\n",
       "75%           7.700000  100544.750000\n",
       "max          10.500000  122391.000000"
      ]
     },
     "execution_count": 8,
     "metadata": {},
     "output_type": "execute_result"
    }
   ],
   "source": [
    "Salary_Data.describe()"
   ]
  },
  {
   "cell_type": "markdown",
   "metadata": {
    "id": "scFBlCMmHXSq"
   },
   "source": [
    " Visualizing our Salary Data to find more Insights**"
   ]
  },
  {
   "cell_type": "code",
   "execution_count": 9,
   "metadata": {
    "colab": {
     "base_uri": "https://localhost:8080/",
     "height": 296
    },
    "id": "p5KfJ-P96B3d",
    "outputId": "df0ef59c-4118-42cb-cc8d-96cdbed3409b"
   },
   "outputs": [
    {
     "data": {
      "text/plain": [
       "<AxesSubplot:xlabel='YearsExperience', ylabel='Salary'>"
      ]
     },
     "execution_count": 9,
     "metadata": {},
     "output_type": "execute_result"
    },
    {
     "data": {
      "image/png": "[encoded data removed]",
      "text/plain": [
       "<Figure size 432x288 with 1 Axes>"
      ]
     },
     "metadata": {
      "needs_background": "light"
     },
     "output_type": "display_data"
    }
   ],
   "source": [
    "import seaborn as sns\n",
    "\n",
    "# We will first draw a Regression plot using seaborn to check for the line of best fit\n",
    "\n",
    "sns.regplot(x='YearsExperience',\n",
    "            y='Salary',\n",
    "            data=Salary_Data)"
   ]
  },
  {
   "cell_type": "code",
   "execution_count": 10,
   "metadata": {
    "colab": {
     "base_uri": "https://localhost:8080/",
     "height": 281
    },
    "id": "cSTnGCzYF6hT",
    "outputId": "7cdfe34b-1135-4c05-e9f1-dba10ceb92fa"
   },
   "outputs": [
    {
     "data": {
      "image/png": "[encoded data removed]",
      "text/plain": [
       "<Figure size 864x288 with 2 Axes>"
      ]
     },
     "metadata": {
      "needs_background": "light"
     },
     "output_type": "display_data"
    }
   ],
   "source": [
    "import matplotlib.pyplot as plt\n",
    "\n",
    "#Visualizing our salary data using histograms\n",
    "\n",
    "Salary_Data.hist(bins=20, figsize=(12,4))\n",
    "plt.show()"
   ]
  },
  {
   "cell_type": "code",
   "execution_count": 11,
   "metadata": {
    "colab": {
     "base_uri": "https://localhost:8080/",
     "height": 627
    },
    "id": "T_xKBwxrIFaR",
    "outputId": "e5b1f1fe-7ca3-4871-9d95-72b2abdbcc30"
   },
   "outputs": [
    {
     "data": {
      "image/png": "[encoded data removed]",
      "text/plain": [
       "<Figure size 720x720 with 1 Axes>"
      ]
     },
     "metadata": {},
     "output_type": "display_data"
    }
   ],
   "source": [
    "plt.style.use(\"ggplot\")\n",
    "\n",
    "subplot=Salary_Data.groupby('Salary')['YearsExperience'].sum().plot(kind='barh', width=0.2,figsize=(10,10))\n",
    "subplot.set_title('Distribution of Salaries againist Years Of Experience', fontsize=15)\n",
    "subplot.set_xlabel('YearsExperience', fontsize=14)\n",
    "subplot.set_ylabel('Salary', fontsize=14)\n",
    "for i in subplot.patches:\n",
    "    subplot.text(i.get_width()+0.1, i.get_y()+0.1, str(i.get_width()),fontsize=11)"
   ]
  },
  {
   "cell_type": "markdown",
   "metadata": {
    "id": "4WO8CAn3JspJ"
   },
   "source": [
    "As we can see from the above chart the more the years of experience the  more the salary"
   ]
  },
  {
   "cell_type": "code",
   "execution_count": 12,
   "metadata": {
    "colab": {
     "base_uri": "https://localhost:8080/",
     "height": 299
    },
    "id": "xoQPQfto5ZhP",
    "outputId": "03d6d12e-51dd-4456-e5ae-68b2fa1b21a9"
   },
   "outputs": [
    {
     "data": {
      "text/plain": [
       "<AxesSubplot:xlabel='YearsExperience', ylabel='Salary'>"
      ]
     },
     "execution_count": 12,
     "metadata": {},
     "output_type": "execute_result"
    },
    {
     "data": {
      "image/png": "[encoded data removed]",
      "text/plain": [
       "<Figure size 432x288 with 1 Axes>"
      ]
     },
     "metadata": {},
     "output_type": "display_data"
    }
   ],
   "source": [
    "Salary_Data.plot.scatter(x='YearsExperience',y='Salary')"
   ]
  },
  {
   "cell_type": "markdown",
   "metadata": {
    "id": "kl5umStnNy9q"
   },
   "source": [
    "**Checking for Correlations in my Data between our two columns**"
   ]
  },
  {
   "cell_type": "code",
   "execution_count": 13,
   "metadata": {
    "id": "eLfsKpfCN5Tl"
   },
   "outputs": [],
   "source": [
    "corr_matrix = Salary_Data.corr()"
   ]
  },
  {
   "cell_type": "code",
   "execution_count": 14,
   "metadata": {
    "colab": {
     "base_uri": "https://localhost:8080/",
     "height": 111
    },
    "id": "ywjvfrEyOBPt",
    "outputId": "a8bef3f1-35eb-4b89-97ef-3daac8337dc3"
   },
   "outputs": [
    {
     "data": {
      "text/html": [
       "<div>\n",
       "<style scoped>\n",
       "    .dataframe tbody tr th:only-of-type {\n",
       "        vertical-align: middle;\n",
       "    }\n",
       "\n",
       "    .dataframe tbody tr th {\n",
       "        vertical-align: top;\n",
       "    }\n",
       "\n",
       "    .dataframe thead th {\n",
       "        text-align: right;\n",
       "    }\n",
       "</style>\n",
       "<table border=\"1\" class=\"dataframe\">\n",
       "  <thead>\n",
       "    <tr style=\"text-align: right;\">\n",
       "      <th></th>\n",
       "      <th>YearsExperience</th>\n",
       "      <th>Salary</th>\n",
       "    </tr>\n",
       "  </thead>\n",
       "  <tbody>\n",
       "    <tr>\n",
       "      <th>YearsExperience</th>\n",
       "      <td>1.000000</td>\n",
       "      <td>0.978242</td>\n",
       "    </tr>\n",
       "    <tr>\n",
       "      <th>Salary</th>\n",
       "      <td>0.978242</td>\n",
       "      <td>1.000000</td>\n",
       "    </tr>\n",
       "  </tbody>\n",
       "</table>\n",
       "</div>"
      ],
      "text/plain": [
       "                 YearsExperience    Salary\n",
       "YearsExperience         1.000000  0.978242\n",
       "Salary                  0.978242  1.000000"
      ]
     },
     "execution_count": 14,
     "metadata": {},
     "output_type": "execute_result"
    }
   ],
   "source": [
    "corr_matrix[\"YearsExperience\"].sort_values(ascending=False)\n",
    "Salary_Data.corr()"
   ]
  },
  {
   "cell_type": "markdown",
   "metadata": {
    "id": "WPKdKRbp4jzF"
   },
   "source": [
    "####Checking for the shape and size of our data"
   ]
  },
  {
   "cell_type": "code",
   "execution_count": 15,
   "metadata": {
    "colab": {
     "base_uri": "https://localhost:8080/"
    },
    "id": "zddtOJl879SM",
    "outputId": "41ca1fae-4437-41f5-968b-cfe44a5bc518"
   },
   "outputs": [
    {
     "data": {
      "text/plain": [
       "(30, 2)"
      ]
     },
     "execution_count": 15,
     "metadata": {},
     "output_type": "execute_result"
    }
   ],
   "source": [
    "Salary_Data.shape"
   ]
  },
  {
   "cell_type": "code",
   "execution_count": 16,
   "metadata": {
    "colab": {
     "base_uri": "https://localhost:8080/"
    },
    "id": "9BwUpHCs8l6l",
    "outputId": "1773fa01-f23d-4d2c-c9ce-e03eab80e403"
   },
   "outputs": [
    {
     "data": {
      "text/plain": [
       "60"
      ]
     },
     "execution_count": 16,
     "metadata": {},
     "output_type": "execute_result"
    }
   ],
   "source": [
    "Salary_Data.size"
   ]
  },
  {
   "cell_type": "markdown",
   "metadata": {
    "id": "UN3zIhur8gUV"
   },
   "source": [
    "**I will then Transform our training and testing data that we have split above using the reshape function into 2Dimension in order for scikit learn to manipulate it**"
   ]
  },
  {
   "cell_type": "code",
   "execution_count": 17,
   "metadata": {
    "id": "2J-t38Xcn7gq"
   },
   "outputs": [],
   "source": [
    "X = X.reshape(-1,1)\n",
    "y = y.reshape(-1,1)"
   ]
  },
  {
   "cell_type": "markdown",
   "metadata": {
    "id": "m8pn4MItB2nz"
   },
   "source": [
    "**Spliting my data into training and testing sets**"
   ]
  },
  {
   "cell_type": "markdown",
   "metadata": {
    "id": "0kJjYDTQCEVW"
   },
   "source": [
    "We will allocate 30% of our data for testing and 70% for training"
   ]
  },
  {
   "cell_type": "code",
   "execution_count": 18,
   "metadata": {
    "id": "D8OYqn3YzXHe"
   },
   "outputs": [],
   "source": [
    "from sklearn.model_selection import train_test_split\n",
    "\n",
    "X_train, X_test, y_train, y_test = train_test_split(X, y, test_size = 0.3, random_state = 0)"
   ]
  },
  {
   "cell_type": "markdown",
   "metadata": {
    "id": "tx3HRwgwL-VG"
   },
   "source": [
    "**Here i'm Training my Model** **bold text**"
   ]
  },
  {
   "cell_type": "code",
   "execution_count": 19,
   "metadata": {
    "id": "K4WYEtgiMAd8"
   },
   "outputs": [],
   "source": [
    "from sklearn.linear_model import LinearRegression\n",
    "lr = LinearRegression()"
   ]
  },
  {
   "cell_type": "code",
   "execution_count": 20,
   "metadata": {
    "colab": {
     "base_uri": "https://localhost:8080/"
    },
    "id": "JrXY4Kz0CyDA",
    "outputId": "6f7e9a0d-c254-48a0-93d0-40c954617926"
   },
   "outputs": [
    {
     "data": {
      "text/plain": [
       "LinearRegression()"
      ]
     },
     "execution_count": 20,
     "metadata": {},
     "output_type": "execute_result"
    }
   ],
   "source": [
    "lr_reg = LinearRegression()\n",
    "\n",
    "lr_reg.fit(X_train,y_train)"
   ]
  },
  {
   "cell_type": "markdown",
   "metadata": {
    "id": "b0UhJ_cpFGUr"
   },
   "source": [
    "Let us check for the coefficiency and intercept of our model"
   ]
  },
  {
   "cell_type": "code",
   "execution_count": 21,
   "metadata": {
    "colab": {
     "base_uri": "https://localhost:8080/"
    },
    "id": "RpkMnRB8FNPW",
    "outputId": "c2526a31-0f7b-4043-a7f6-41bdea5df84f"
   },
   "outputs": [
    {
     "name": "stdout",
     "output_type": "stream",
     "text": [
      "Coefficients:  [[9360.26128619]]\n",
      "Intercept:  [26777.3913412]\n"
     ]
    }
   ],
   "source": [
    "print(\"Coefficients: \", lr_reg.coef_)\n",
    "print(\"Intercept: \", lr_reg.intercept_)"
   ]
  },
  {
   "cell_type": "markdown",
   "metadata": {
    "id": "EresYM5GFjIs"
   },
   "source": [
    "I will Get the Prediction of the Salries from our model"
   ]
  },
  {
   "cell_type": "code",
   "execution_count": 22,
   "metadata": {
    "colab": {
     "base_uri": "https://localhost:8080/"
    },
    "id": "eH0qOt3AFxVX",
    "outputId": "19a9fb01-287e-486f-8851-545691e06e6d"
   },
   "outputs": [
    {
     "data": {
      "text/plain": [
       "array([[ 40817.78327049, 123188.08258899,  65154.46261459,\n",
       "         63282.41035735, 115699.87356004, 108211.66453108,\n",
       "        116635.89968866,  64218.43648597,  76386.77615802]])"
      ]
     },
     "execution_count": 22,
     "metadata": {},
     "output_type": "execute_result"
    }
   ],
   "source": [
    "Salary_prediction = lr_reg.predict(X_test)\n",
    "Salary_prediction.T"
   ]
  },
  {
   "cell_type": "markdown",
   "metadata": {
    "id": "nqfZ3mrdL7t6"
   },
   "source": [
    "**Now i'm going to compare the Actual Salaries with our predicted Salaries based on Years Of Experience**"
   ]
  },
  {
   "cell_type": "code",
   "execution_count": 23,
   "metadata": {
    "colab": {
     "base_uri": "https://localhost:8080/",
     "height": 299
    },
    "id": "ZCHBIP7yLghm",
    "outputId": "2d8d84fc-7116-4a74-8198-8bb162af7e16"
   },
   "outputs": [
    {
     "data": {
      "image/png": "[encoded data removed]",
      "text/plain": [
       "<Figure size 432x288 with 1 Axes>"
      ]
     },
     "metadata": {},
     "output_type": "display_data"
    }
   ],
   "source": [
    "plt.scatter(X_train,y_train, color='green',)\n",
    "plt.scatter(X_test,y_test, color='red',)\n",
    "plt.plot(X_train,lr_reg.predict(X_train), color='blue')\n",
    "plt.title('#Trained $ Test Sets->Comparison of Salary and YearsExperience')\n",
    "plt.xlabel('years of experience')\n",
    "plt.ylabel('Salary')\n",
    "plt.show()"
   ]
  },
  {
   "cell_type": "markdown",
   "metadata": {
    "id": "LLAhH04XPJQd"
   },
   "source": [
    "**Lastly i will Audit our Model by checking for the Accuracy and loss of our Model**"
   ]
  },
  {
   "cell_type": "code",
   "execution_count": 24,
   "metadata": {
    "colab": {
     "base_uri": "https://localhost:8080/"
    },
    "id": "rHbSyNYCqQ-i",
    "outputId": "dee68ff6-7d40-4ebf-ba00-430a1cf6ca24"
   },
   "outputs": [
    {
     "name": "stdout",
     "output_type": "stream",
     "text": [
      "The Accuracy Score Of our Model is: 0.9740993407213511\n"
     ]
    }
   ],
   "source": [
    "from sklearn.metrics import r2_score\n",
    "\n",
    "accuracy_score = []\n",
    "\n",
    "accuracy_score.append(r2_score(y_test,Salary_prediction))\n",
    "\n",
    "ac = (r2_score(y_test,Salary_prediction))\n",
    "\n",
    "print(\"The Accuracy Score Of our Model is:\",ac)"
   ]
  },
  {
   "cell_type": "markdown",
   "metadata": {
    "id": "M-6-1cv0rXIT"
   },
   "source": [
    "**Finding the Mean Squared Error (MSE)**"
   ]
  },
  {
   "cell_type": "code",
   "execution_count": 25,
   "metadata": {
    "colab": {
     "base_uri": "https://localhost:8080/"
    },
    "id": "s3jRlFNOquNW",
    "outputId": "5643d1fd-c553-4e9c-ca2d-83f8424d51e1"
   },
   "outputs": [
    {
     "name": "stdout",
     "output_type": "stream",
     "text": [
      "The MSE Of our Model is: 23370078.800832972\n"
     ]
    }
   ],
   "source": [
    "from sklearn.metrics import mean_squared_error\n",
    "\n",
    "MSE = []\n",
    "\n",
    "MSE.append(mean_squared_error(y_test,Salary_prediction))\n",
    "\n",
    "mean_squared_error = (mean_squared_error(y_test,Salary_prediction))\n",
    "\n",
    "print(\"The MSE Of our Model is:\",mean_squared_error)\n"
   ]
  }
 ],
 "metadata": {
  "accelerator": "GPU",
  "colab": {
   "collapsed_sections": [],
   "name": "Group_1_Simple_Linear_Regression.ipynb",
   "provenance": []
  },
  "kernelspec": {
   "display_name": "Python 3 (ipykernel)",
   "language": "python",
   "name": "python3"
  },
  "language_info": {
   "codemirror_mode": {
    "name": "ipython",
    "version": 3
   },
   "file_extension": ".py",
   "mimetype": "text/x-python",
   "name": "python",
   "nbconvert_exporter": "python",
   "pygments_lexer": "ipython3",
   "version": "3.9.7"
  }
 },
 "nbformat": 4,
 "nbformat_minor": 1
}
